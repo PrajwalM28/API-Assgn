{
 "cells": [
  {
   "cell_type": "markdown",
   "id": "230cb22b-280b-4c64-b855-3b93f70f3538",
   "metadata": {},
   "source": [
    "## Q1."
   ]
  },
  {
   "cell_type": "markdown",
   "id": "fe098bff-83eb-48ab-bdd9-4185fb96cd88",
   "metadata": {},
   "source": [
    "\"\"\"\n",
    "API stands for Application Programming Interface. It is a set of rules and protocols that allows different software applications to communicate with each other. \n",
    "\n",
    "Imagine you have a mobile banking app on your smartphone, and you want to check your account balance. When you open the app and request your account balance, the app communicates with your bank's servers through an API. The API allows the app to securely retrieve your account balance information from the bank's database and then displays it to you on your screen. In this case, the API enables your mobile banking app to access and display your account balance without storing the sensitive financial data on your device or having to understand the complex workings of the bank's database\n",
    "\n",
    "\"\"\""
   ]
  },
  {
   "cell_type": "markdown",
   "id": "882fa63a-436f-43f4-87e3-ebce40ec3845",
   "metadata": {},
   "source": [
    "## Q2."
   ]
  },
  {
   "cell_type": "markdown",
   "id": "5da03a43-9f58-4050-bc39-b2c7d94ff10a",
   "metadata": {},
   "source": [
    "\"\"\"\n",
    "Advantages : \n",
    " -  APIs allow different software systems to communicate and work together, making it easier to integrate and use external services or data.\n",
    " \n",
    " - APIs can be reused across multiple applications, saving time and effort by not having to recreate the same functionality from scratch.\n",
    " \n",
    " - They enable developers to leverage pre-existing services and data, reducing development time and costs.\n",
    " \n",
    " - APIs provide a way to scale your application by integrating third-party services or resources as needed.\n",
    " \n",
    "\n",
    "Disadvantages : \n",
    " -  Updates or changes to the API can break compatibility with your application, requiring you to adapt and update your code.\n",
    " \n",
    " -  Some APIs are not free and can incur costs, which might become significant when dealing with high usage or premium features.\n",
    " \n",
    " -  Using external APIs can introduce latency or performance issues, depending on the response time of the external service.\n",
    " \n",
    " - APIs may have limitations in terms of the functionality they provide, which can restrict what you can do in your application.\n",
    " \n",
    "\"\"\""
   ]
  },
  {
   "cell_type": "markdown",
   "id": "2d75a095-2a56-46d2-bd62-68c1aa8f66bd",
   "metadata": {},
   "source": [
    "## Q3."
   ]
  },
  {
   "cell_type": "markdown",
   "id": "9baccb43-23e4-495c-8ac5-226b67895414",
   "metadata": {},
   "source": [
    "\"\"\"\n",
    "A Web API is a type of API that is specifically designed for use over the internet or the web. It enables communication and interaction between different software applications or systems using standard web protocols such as HTTP\n",
    "\n",
    "API : \n",
    " - An API is a general term that refers to a set of rules and protocols that allows different software components or systems to communicate and interact with each other.\n",
    " \n",
    " - APIs can be used in a variety of contexts, including desktop applications, mobile apps, operating systems, databases, and more.\n",
    "\n",
    " - They may not necessarily involve web technologies and can operate within a single computer, between computers on a local network (e.g., a database API), or in various non-web environments.\n",
    " \n",
    "Web API : \n",
    " - A Web API is a specific type of API that is designed for use on the web.\n",
    "\n",
    " - It operates over the internet and uses web protocols like HTTP for communication.\n",
    "\n",
    " - Web APIs are typically used for exposing web-based services, data, or functionality to other applications, either within the same organization or to external developers.\n",
    " \n",
    "\"\"\""
   ]
  },
  {
   "cell_type": "markdown",
   "id": "a9dbfbae-8862-4282-b304-7680343d6874",
   "metadata": {},
   "source": [
    "## Q4."
   ]
  },
  {
   "cell_type": "markdown",
   "id": "99407a8b-7752-4db7-b08d-19e08bc62062",
   "metadata": {},
   "source": [
    "\"\"\"\n",
    "REST : \n",
    " - REST is an architectural style that emphasizes simplicity and the use of standard HTTP methods and status codes.\n",
    " \n",
    "SOAP : \n",
    " - SOAP is a protocol for exchanging structured information in the implementation of web services. It is XML-based and offers a set of rules for structuring messages, defining procedures, and encoding data.\n",
    " \n",
    "Shortcomings of SOAP:\n",
    " - Complexity \n",
    " - Overhead\n",
    " - Learning Curve\n",
    " - Limited Browser Support\n",
    " - Resource Discovery\n",
    " \"\"\""
   ]
  },
  {
   "cell_type": "markdown",
   "id": "892448d7-c6ac-4b11-84d8-8864a9c88675",
   "metadata": {},
   "source": [
    "## Q5."
   ]
  },
  {
   "cell_type": "markdown",
   "id": "8b576fa6-0e32-4185-9fb4-74f6c6557da7",
   "metadata": {},
   "source": [
    "\"\"\"\n",
    "SOAP : \n",
    " - SOAP is a protocol that specifies a set of rules for structuring messages and performing remote procedure calls. It can use various transport protocols, but it is often used over HTTP.\n",
    " \n",
    " - SOAP does not prescribe the use of specific HTTP methods. It often relies on POST for all operations, which can make it less aligned with the principles of HTTP.\n",
    " \n",
    "REST : \n",
    " - REST is an architectural style. It is not tied to a specific protocol and relies on standard HTTP methods for communication.\n",
    " \n",
    " - REST relies on standard HTTP methods, such as GET (retrieve), POST (create), PUT (update), and DELETE (delete), which map well to the actions taken on resources.\n",
    " \n",
    "\"\"\""
   ]
  }
 ],
 "metadata": {
  "kernelspec": {
   "display_name": "Python 3 (ipykernel)",
   "language": "python",
   "name": "python3"
  },
  "language_info": {
   "codemirror_mode": {
    "name": "ipython",
    "version": 3
   },
   "file_extension": ".py",
   "mimetype": "text/x-python",
   "name": "python",
   "nbconvert_exporter": "python",
   "pygments_lexer": "ipython3",
   "version": "3.10.8"
  }
 },
 "nbformat": 4,
 "nbformat_minor": 5
}
